{
  "nbformat": 4,
  "nbformat_minor": 0,
  "metadata": {
    "colab": {
      "name": "021-030_exercises.ipynb",
      "provenance": [],
      "collapsed_sections": [],
      "include_colab_link": true
    },
    "kernelspec": {
      "name": "python3",
      "display_name": "Python 3"
    }
  },
  "cells": [
    {
      "cell_type": "markdown",
      "metadata": {
        "id": "view-in-github",
        "colab_type": "text"
      },
      "source": [
        "<a href=\"https://colab.research.google.com/github/squesada/test-colab/blob/main/021_030_exercises.ipynb\" target=\"_parent\"><img src=\"https://colab.research.google.com/assets/colab-badge.svg\" alt=\"Open In Colab\"/></a>"
      ]
    },
    {
      "cell_type": "markdown",
      "metadata": {
        "id": "WLEgCW5F1hho"
      },
      "source": [
        "## Numpy\n",
        "\n",
        "### Table of contents:\n",
        "* [Import biblioteki](#0)\n",
        "* [Exercise 21](#1)\n",
        "* [Exercise 22](#2)\n",
        "* [Exercise 23](#3)\n",
        "* [Exercise 24](#4)\n",
        "* [Exercise 25](#5)\n",
        "* [Exercise 26](#6)\n",
        "* [Exercise 27](#7)\n",
        "* [Exercise 28](#8)\n",
        "* [Exercise 29](#9)\n",
        "* [Exercise 30](#10)"
      ]
    },
    {
      "cell_type": "markdown",
      "metadata": {
        "id": "zeLOLmTj1kBM"
      },
      "source": [
        "### <a name='0'></a> Import of libraries"
      ]
    },
    {
      "cell_type": "code",
      "metadata": {
        "id": "HXMB7SMe1Wnz",
        "colab": {
          "base_uri": "https://localhost:8080/",
          "height": 35
        },
        "outputId": "c8951200-88e1-49ac-87ed-c9bd8271f618"
      },
      "source": [
        "import numpy as np\n",
        "\n",
        "np.__version__"
      ],
      "execution_count": 1,
      "outputs": [
        {
          "output_type": "execute_result",
          "data": {
            "application/vnd.google.colaboratory.intrinsic+json": {
              "type": "string"
            },
            "text/plain": [
              "'1.19.5'"
            ]
          },
          "metadata": {},
          "execution_count": 1
        }
      ]
    },
    {
      "cell_type": "markdown",
      "metadata": {
        "id": "cyc70pMe1oCg"
      },
      "source": [
        "### <a name='1'></a> Exercise 21\n",
        "Generate the following numpy array. Save the array to a binary file named _'array.npy'_ and then load that file back into another variable.\n",
        "\n",
        "```\n",
        "array([[ 0,  1,  2,  3],\n",
        "       [ 4,  5,  6,  7],\n",
        "       [ 8,  9, 10, 11]])\n",
        "```\n",
        "__Tip:__ Use the _np.save()_ and _np.load()_ functions.\n"
      ]
    },
    {
      "cell_type": "code",
      "metadata": {
        "id": "FIgpKf-41yf1",
        "colab": {
          "base_uri": "https://localhost:8080/"
        },
        "outputId": "abd98d67-7ca5-442a-b86c-c4ea678a0551"
      },
      "source": [
        "ar1 = np.arange(12,dtype=int).reshape((3,4))\n",
        "np.save('array.npy',ar1)\n",
        "\n",
        "ar2 = np.load('array.npy')\n",
        "ar2"
      ],
      "execution_count": 7,
      "outputs": [
        {
          "output_type": "execute_result",
          "data": {
            "text/plain": [
              "array([[ 0,  1,  2,  3],\n",
              "       [ 4,  5,  6,  7],\n",
              "       [ 8,  9, 10, 11]])"
            ]
          },
          "metadata": {},
          "execution_count": 7
        }
      ]
    },
    {
      "cell_type": "markdown",
      "metadata": {
        "id": "J9pY1rtr1sC0"
      },
      "source": [
        "### <a name='2'></a> Exercise 22\n",
        "Generate the following numpy array:\n",
        "```\n",
        "array([[ 0,  1,  2,  3],\n",
        "       [ 4,  5,  6,  7],\n",
        "       [ 8,  9, 10, 11]])\n",
        "```\n",
        "\n",
        "Save the array to a text file named _'array.txt'_ with two decimal places and then load the file back into another variable.\n",
        "\n",
        "__Tip:__ Use the _np.savetxt()_ and _np.loadtxt()_ functions.\n"
      ]
    },
    {
      "cell_type": "code",
      "metadata": {
        "id": "Je9xFrAk2Gnj",
        "colab": {
          "base_uri": "https://localhost:8080/"
        },
        "outputId": "4530e897-618e-4e72-8377-c4a3039123e2"
      },
      "source": [
        "ar1 = np.arange(12,dtype=int).reshape((3,4))\n",
        "np.savetxt(fname='array.txt',X=ar1, fmt='%0d')\n",
        "\n",
        "ar2 = np.loadtxt(fname='array.txt',dtype=int)\n",
        "ar2"
      ],
      "execution_count": 22,
      "outputs": [
        {
          "output_type": "execute_result",
          "data": {
            "text/plain": [
              "array([[ 0,  1,  2,  3],\n",
              "       [ 4,  5,  6,  7],\n",
              "       [ 8,  9, 10, 11]])"
            ]
          },
          "metadata": {},
          "execution_count": 22
        }
      ]
    },
    {
      "cell_type": "markdown",
      "metadata": {
        "id": "XQLYT2m11wVG"
      },
      "source": [
        "### <a name='3'></a> Exercise 23\n",
        "Generate and convert the following numpy array into a list:\n",
        "\n",
        "```\n",
        "array([[ 0,  1,  2,  3],\n",
        "       [ 4,  5,  6,  7],\n",
        "       [ 8,  9, 10, 11]])\n",
        "```\n",
        "__Tip:__ Use the _np.array.tolist()_ method.\n"
      ]
    },
    {
      "cell_type": "code",
      "metadata": {
        "id": "Er5H29cf2SDX",
        "colab": {
          "base_uri": "https://localhost:8080/"
        },
        "outputId": "fd47c76e-a78a-4c70-ac9e-941d30505f10"
      },
      "source": [
        "A = np.arange(12,dtype=int).reshape((3,4))\n",
        "A.tolist()"
      ],
      "execution_count": 23,
      "outputs": [
        {
          "output_type": "execute_result",
          "data": {
            "text/plain": [
              "[[0, 1, 2, 3], [4, 5, 6, 7], [8, 9, 10, 11]]"
            ]
          },
          "metadata": {},
          "execution_count": 23
        }
      ]
    },
    {
      "cell_type": "markdown",
      "metadata": {
        "id": "4xTKSUzg10MK"
      },
      "source": [
        "### <a name='4'></a> Exercise 24\n",
        "The following numpy array is given:\n",
        "```\n",
        "array([[ 0,  1,  2,  3],\n",
        "       [ 4,  5,  6,  7],\n",
        "       [ 8,  9, 10, 11]])\n",
        "```\n",
        "\n",
        "Using the cut operator, transform the array into the following:\n",
        "\n",
        "* swap rows (first with last)\n",
        "\n",
        "```\n",
        "array([[ 8,  9, 10, 11],\n",
        "       [ 4,  5,  6,  7],\n",
        "       [ 0,  1,  2,  3]])\n",
        "```"
      ]
    },
    {
      "cell_type": "code",
      "metadata": {
        "id": "YUY5Bwxk2ikn",
        "colab": {
          "base_uri": "https://localhost:8080/"
        },
        "outputId": "7d9b3b24-2d41-4c7c-f2ac-da34a6fbdfff"
      },
      "source": [
        "A = np.arange(12,dtype=int).reshape((3,4))\n",
        "A[::-1]"
      ],
      "execution_count": 45,
      "outputs": [
        {
          "output_type": "execute_result",
          "data": {
            "text/plain": [
              "array([[ 8,  9, 10, 11],\n",
              "       [ 4,  5,  6,  7],\n",
              "       [ 0,  1,  2,  3]])"
            ]
          },
          "metadata": {},
          "execution_count": 45
        }
      ]
    },
    {
      "cell_type": "markdown",
      "metadata": {
        "id": "HQpzwNn42lgq"
      },
      "source": [
        "* swap columns (reverse order)\n",
        "\n",
        "```\n",
        "array([[ 3,  2,  1,  0],\n",
        "       [ 7,  6,  5,  4],\n",
        "       [11, 10,  9,  8]])\n",
        "```"
      ]
    },
    {
      "cell_type": "code",
      "metadata": {
        "id": "ZO3gmwWR2p4z",
        "colab": {
          "base_uri": "https://localhost:8080/"
        },
        "outputId": "a83e18eb-59d0-4858-d04f-b7faf2a96de1"
      },
      "source": [
        "A = np.arange(12,dtype=int).reshape((3,4))\n",
        "A[:,::-1]"
      ],
      "execution_count": 49,
      "outputs": [
        {
          "output_type": "execute_result",
          "data": {
            "text/plain": [
              "array([[ 3,  2,  1,  0],\n",
              "       [ 7,  6,  5,  4],\n",
              "       [11, 10,  9,  8]])"
            ]
          },
          "metadata": {},
          "execution_count": 49
        }
      ]
    },
    {
      "cell_type": "markdown",
      "metadata": {
        "id": "rw04U_Fz2sq_"
      },
      "source": [
        "* swapp rows and columns (reverse order)\n",
        "\n",
        "```\n",
        "array([[11, 10,  9,  8],\n",
        "       [ 7,  6,  5,  4],\n",
        "       [ 3,  2,  1,  0]])\n",
        "``` "
      ]
    },
    {
      "cell_type": "code",
      "metadata": {
        "id": "_u_gT-dn2v-t",
        "colab": {
          "base_uri": "https://localhost:8080/"
        },
        "outputId": "4afecedb-768d-44f6-df5f-817c3e67d8aa"
      },
      "source": [
        "A = np.arange(12,dtype=int).reshape((3,4))\n",
        "A[::-1,::-1]"
      ],
      "execution_count": 50,
      "outputs": [
        {
          "output_type": "execute_result",
          "data": {
            "text/plain": [
              "array([[11, 10,  9,  8],\n",
              "       [ 7,  6,  5,  4],\n",
              "       [ 3,  2,  1,  0]])"
            ]
          },
          "metadata": {},
          "execution_count": 50
        }
      ]
    },
    {
      "cell_type": "markdown",
      "metadata": {
        "id": "o3HKIKlP15Ro"
      },
      "source": [
        "### <a name='5'></a> Exercise 25\n",
        "The following numpy array:\n",
        "\n",
        "```\n",
        "array([[1., 1., 1., 1.],\n",
        "       [1., 1., 1., 1.],\n",
        "       [1., 1., 1., 1.],\n",
        "       [1., 1., 1., 1.]])\n",
        "```\n",
        "Transform to array:\n",
        "\n",
        "```\n",
        "array([[0., 0., 0., 0., 0., 0.],\n",
        "       [0., 1., 1., 1., 1., 0.],\n",
        "       [0., 1., 1., 1., 1., 0.],\n",
        "       [0., 1., 1., 1., 1., 0.],\n",
        "       [0., 1., 1., 1., 1., 0.],\n",
        "       [0., 0., 0., 0., 0., 0.]])\n",
        "```\n",
        "\n",
        "__Tip:__ Use the _np.pad()_ function."
      ]
    },
    {
      "cell_type": "code",
      "metadata": {
        "id": "AvIQO9P0290E",
        "colab": {
          "base_uri": "https://localhost:8080/"
        },
        "outputId": "c03aab80-18ff-469d-dd72-d16cbfde0820"
      },
      "source": [
        "A = np.full((4,4),1)\n",
        "np.pad(array=A, pad_width=1)"
      ],
      "execution_count": 57,
      "outputs": [
        {
          "output_type": "execute_result",
          "data": {
            "text/plain": [
              "array([[0, 0, 0, 0, 0, 0],\n",
              "       [0, 1, 1, 1, 1, 0],\n",
              "       [0, 1, 1, 1, 1, 0],\n",
              "       [0, 1, 1, 1, 1, 0],\n",
              "       [0, 1, 1, 1, 1, 0],\n",
              "       [0, 0, 0, 0, 0, 0]])"
            ]
          },
          "metadata": {},
          "execution_count": 57
        }
      ]
    },
    {
      "cell_type": "markdown",
      "metadata": {
        "id": "PunXd_Ey16so"
      },
      "source": [
        "### <a name='6'></a> Exercise 26\n",
        "The following numpy array:\n",
        "```\n",
        "array([[0, 0, 0, 0, 0, 0],\n",
        "       [0, 0, 0, 0, 0, 0],\n",
        "       [0, 0, 0, 0, 0, 0],\n",
        "       [0, 0, 0, 0, 0, 0],\n",
        "       [0, 0, 0, 0, 0, 0],\n",
        "       [0, 0, 0, 0, 0, 0]])\n",
        "```\n",
        "\n",
        "Transform to array:\n",
        "```\n",
        "array([[10,  0, 10,  0, 10,  0],\n",
        "       [ 5,  0,  5,  0,  5,  0],\n",
        "       [10,  0, 10,  0, 10,  0],\n",
        "       [ 5,  0,  5,  0,  5,  0],\n",
        "       [10,  0, 10,  0, 10,  0],\n",
        "       [ 5,  0,  5,  0,  5,  0]])\n",
        "```\n",
        "\n",
        "__Tip:__ Use the cut operator and assign the appropriate values.\n"
      ]
    },
    {
      "cell_type": "code",
      "metadata": {
        "id": "BbBTnWY33KwL",
        "colab": {
          "base_uri": "https://localhost:8080/"
        },
        "outputId": "5c6830e1-8f1b-46ba-d2c8-bbcbb9b86e21"
      },
      "source": [
        "A = np.zeros((6,6),dtype=int)\n",
        "A[::2,::2] = 10\n",
        "A[1::2,::2] = 5\n",
        "A"
      ],
      "execution_count": 70,
      "outputs": [
        {
          "output_type": "execute_result",
          "data": {
            "text/plain": [
              "array([[10,  0, 10,  0, 10,  0],\n",
              "       [ 5,  0,  5,  0,  5,  0],\n",
              "       [10,  0, 10,  0, 10,  0],\n",
              "       [ 5,  0,  5,  0,  5,  0],\n",
              "       [10,  0, 10,  0, 10,  0],\n",
              "       [ 5,  0,  5,  0,  5,  0]])"
            ]
          },
          "metadata": {},
          "execution_count": 70
        }
      ]
    },
    {
      "cell_type": "markdown",
      "metadata": {
        "id": "hOhqDRz618Tx"
      },
      "source": [
        "### <a name='7'></a> Exercise 27\n",
        "Combine the following arrays: $ A $ and $ B $ into one array.\n",
        "\n",
        "```\n",
        "A = np.arange(12).reshape(-1, 4)\n",
        "B = np.array([[4, 3, 7, 2],\n",
        "              [0, 5, 2, 6]])\n",
        "```\n",
        "\n",
        "__The expected result:__\n",
        "\n",
        "```\n",
        "array([[ 0,  1,  2,  3],\n",
        "       [ 4,  5,  6,  7],\n",
        "       [ 8,  9, 10, 11],\n",
        "       [ 4,  3,  7,  2],\n",
        "       [ 0,  5,  2,  6]])\n",
        "```\n",
        "\n",
        "__Tip:__ Use the _np.append()_ function.\n"
      ]
    },
    {
      "cell_type": "code",
      "metadata": {
        "id": "Bow8cAUL3Z33",
        "colab": {
          "base_uri": "https://localhost:8080/"
        },
        "outputId": "4d507d17-07b8-444a-a1fa-6a77f585b8db"
      },
      "source": [
        "A = np.arange(12).reshape(-1, 4)\n",
        "B = np.array([[4, 3, 7, 2],\n",
        "              [0, 5, 2, 6]])\n",
        "np.append(A,B,axis=0)"
      ],
      "execution_count": 77,
      "outputs": [
        {
          "output_type": "execute_result",
          "data": {
            "text/plain": [
              "array([[ 0,  1,  2,  3],\n",
              "       [ 4,  5,  6,  7],\n",
              "       [ 8,  9, 10, 11],\n",
              "       [ 4,  3,  7,  2],\n",
              "       [ 0,  5,  2,  6]])"
            ]
          },
          "metadata": {},
          "execution_count": 77
        }
      ]
    },
    {
      "cell_type": "markdown",
      "metadata": {
        "id": "TXUd_4631-gw"
      },
      "source": [
        "### <a name='8'></a> Exercise 28\n",
        "Use the $ A $ and $ B $ arrays below to extract the common elements (intersection) of the arrays.\n",
        "\n",
        "```\n",
        "A = np.arange(8).reshape(-1, 4)\n",
        "B = np.array([[9, 10, 11, 3],\n",
        "              [2, 8, 0, 9]])      \n",
        "```\n",
        "__Tip:__ Use the _np.intersect1d()_ function."
      ]
    },
    {
      "cell_type": "code",
      "metadata": {
        "id": "2yPkHvfN3nOl",
        "colab": {
          "base_uri": "https://localhost:8080/"
        },
        "outputId": "b2794cc1-0738-49b3-89b1-b5b3744a6dd7"
      },
      "source": [
        "A = np.arange(8).reshape(-1, 4)\n",
        "B = np.array([[9, 10, 11, 3],\n",
        "              [2, 8, 0, 9]])  \n",
        "np.intersect1d(A,B)"
      ],
      "execution_count": 78,
      "outputs": [
        {
          "output_type": "execute_result",
          "data": {
            "text/plain": [
              "array([0, 2, 3])"
            ]
          },
          "metadata": {},
          "execution_count": 78
        }
      ]
    },
    {
      "cell_type": "markdown",
      "metadata": {
        "id": "tgI6xEn-2AQo"
      },
      "source": [
        "### <a name='9'></a> Exercise 29\n",
        "The following numpy array $ A $ is given.\n",
        "Find the unique values of this array.\n",
        "\n",
        "```\n",
        "A = np.array([[5, 1, 2, 1, 2],\n",
        "              [9, 1, 9, 7, 5],\n",
        "              [4, 1, 5, 7, 9]])\n",
        "```\n",
        "\n",
        "__Tip:__ Use the _np.unique()_ function."
      ]
    },
    {
      "cell_type": "code",
      "metadata": {
        "id": "gtaiwfCS33Pl",
        "colab": {
          "base_uri": "https://localhost:8080/"
        },
        "outputId": "666f877c-3f3b-4624-961a-b47e5e5f8165"
      },
      "source": [
        "A = np.array([[5, 1, 2, 1, 2],\n",
        "              [9, 1, 9, 7, 5],\n",
        "              [4, 1, 5, 7, 9]])\n",
        "\n",
        "np.unique(A)"
      ],
      "execution_count": 79,
      "outputs": [
        {
          "output_type": "execute_result",
          "data": {
            "text/plain": [
              "array([1, 2, 4, 5, 7, 9])"
            ]
          },
          "metadata": {},
          "execution_count": 79
        }
      ]
    },
    {
      "cell_type": "markdown",
      "metadata": {
        "id": "wxhpf-uq2B1I"
      },
      "source": [
        "### <a name='10'></a> Exercise 30\n",
        "The array below is given:\n",
        "```\n",
        "A = np.array([[0.4, 0.3, 0.3],\n",
        "              [0.1, 0.1, 0.8],\n",
        "              [0.2, 0.5, 0.3]])\n",
        "```\n",
        "Return indexes with maximum values for a given row.\n",
        "\n",
        "__Tip:__ Use the _np.argmax()_ function."
      ]
    },
    {
      "cell_type": "code",
      "metadata": {
        "id": "YFc0KW6URsuc",
        "colab": {
          "base_uri": "https://localhost:8080/"
        },
        "outputId": "123ccd52-35b4-49de-a46c-026fe6e58522"
      },
      "source": [
        "A = np.array([[0.4, 0.3, 0.3],\n",
        "              [0.1, 0.1, 0.8],\n",
        "              [0.2, 0.5, 0.3]])\n",
        "np.argmax(A,1)"
      ],
      "execution_count": 85,
      "outputs": [
        {
          "output_type": "execute_result",
          "data": {
            "text/plain": [
              "array([0, 2, 1])"
            ]
          },
          "metadata": {},
          "execution_count": 85
        }
      ]
    }
  ]
}